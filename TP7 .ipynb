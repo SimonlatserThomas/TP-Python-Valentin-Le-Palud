{
 "cells": [
  {
   "cell_type": "code",
   "execution_count": 188,
   "metadata": {
    "collapsed": false
   },
   "outputs": [],
   "source": [
    "from random import randrange\n",
    "\n",
    "\n",
    "NB_SQUARES=4\n",
    "\n",
    "\n",
    "\n",
    "\n",
    "def shuffle_board(n=NB_SQUARES, N=100):\n",
    "    # N : Nombre de mélanges\n",
    "\n",
    "    def echange(board, empty):\n",
    "        i, j=empty\n",
    "        V=[(a,b) for (a, b) in\n",
    "                [(i, j+1),(i, j-1), (i-1, j), (i+1,j)]\n",
    "                if a in range(n) and b in range(n)]    \n",
    "        ii, jj=V[randrange(len(V))]\n",
    "        board[ii][jj], board[i][j]=board[i][j],board[ii][jj]\n",
    "        return ii, jj\n",
    "    \n",
    "    board=[[n*lin+col+1 for col in range(n)]\n",
    "        for lin in range(n)]\n",
    "    board[n-1][n-1]=0\n",
    "    empty=(n-1,n-1)\n",
    "\n",
    "    for i in range(N):\n",
    "        empty=echange(board, empty)\n",
    "        \n",
    "    return board\n",
    "\n",
    "\n",
    "def voisins(n, i, j):\n",
    "    \"\"\"Dans une grille n x n, indices (ligne, colonne) des voisins \n",
    "    dans la grille d'un sommet (i,j) de la grille\"\"\"\n",
    "    return [(a,b) for (a, b) in [(i, j+1),(i, j-1), (i-1, j), (i+1,j)] \n",
    "            if a in range(n) and b in range(n)]\n",
    "\n",
    "def caseVide(board, i, j):\n",
    "    n=len(board)\n",
    "    for line, col in voisins(n, i,j):\n",
    "        if board[line][col]==0:\n",
    "            return line,col\n",
    "    return None\n",
    "\n",
    "def find_empty(board):\n",
    "    n=len(board)\n",
    "    for i in range(n):\n",
    "        for j in range(n):\n",
    "            if board[i][j]==0:\n",
    "                return i,j\n",
    "\n",
    "def print_board(board):\n",
    "    print('\\n'.join([' '.join([\"%2s\"%v for v in L ]) for L in board]))\n",
    "    \n",
    "def swap(board, i, j):\n",
    "    c=caseVide(board, i, j)\n",
    "    if c is None:\n",
    "        return\n",
    "    line, col=c\n",
    "    board[line][col],board[i][j]=board[i][j],board[line][col]\n",
    "\n",
    "def win(board):\n",
    "    n=len(board)\n",
    "    L=[]\n",
    "    for R in board:\n",
    "        L.extend(R)\n",
    "    ok=[z for z in range(1,n*n)]+[0]\n",
    "    \n",
    "    return L==ok\n"
   ]
  },
  {
   "cell_type": "code",
   "execution_count": 184,
   "metadata": {
    "collapsed": false
   },
   "outputs": [
    {
     "name": "stdout",
     "output_type": "stream",
     "text": [
      "[[1, 3, 2], [6, 8, 7], [4, 5, 0]]\n",
      " 5  6  1\n",
      " 2  0  3\n",
      " 4  7  8\n",
      "[(1, 1), (0, 2), (2, 2)]\n",
      "None\n"
     ]
    }
   ],
   "source": []
  },
  {
   "cell_type": "code",
   "execution_count": 268,
   "metadata": {
    "collapsed": false
   },
   "outputs": [
    {
     "name": "stdout",
     "output_type": "stream",
     "text": [
      " 1  8  6\n",
      " 3  0  2\n",
      " 7  5  4\n",
      "1 0\n",
      "(1, 1)\n",
      "1 1\n",
      "!!!!!!!\n",
      "8\n",
      "1 2\n",
      "(1, 1)\n",
      "1 1\n",
      "!!!!!!!\n",
      "5\n"
     ]
    }
   ],
   "source": [
    "from model1 import shuffle_board, caseVide, swap, win\n",
    "from tkinter import *\n",
    "\n",
    "CANVAS_SIDE=400\n",
    "NB_SQUARES=3\n",
    "R=CANVAS_SIDE//NB_SQUARES\n",
    "\n",
    "def fill_board(cnv, board, n=NB_SQUARES):\n",
    "    cnv.delete(ALL)    \n",
    "    for i in range(n):\n",
    "        for j in range(n):\n",
    "            v=board[i][j]\n",
    "            if v:\n",
    "                cnv.create_rectangle(j*R, i*R, (1+j)*R, (1+i)*R, fill=\"lavender\")\n",
    "                cnv.create_text(j*R+R//2, i*R+R//2, text=v,  font=('courier', CANVAS_SIDE//10, 'bold'))\n",
    "\n",
    "\n",
    "\n",
    "def pos2lineCol(n,x, y):\n",
    "    D=CANVAS_SIDE//NB_SQUARES\n",
    "\n",
    "    if x/D<x//D:\n",
    "        a=x//D+1\n",
    "    else: \n",
    "        a=x//D\n",
    "    if y/D<y//D:\n",
    "        b=y//D+1\n",
    "    else: \n",
    "        b=y//D\n",
    "    return(a,b)\n",
    "\n",
    "       \n",
    "def melanger():\n",
    "    global board\n",
    "    # ok : un plateau terminé\n",
    "    ok=[[n*lin+col+1 for col in range(n)]\n",
    "        for lin in range(n)]\n",
    "    ok[n-1][n-1]=0\n",
    "    \n",
    "    \n",
    "    while True:\n",
    "        board=shuffle_board(n)\n",
    "        # être certain que le plateau a bien été mélangé\n",
    "        if board!=ok:\n",
    "            break\n",
    "        \n",
    "    fill_board(cnv, board)\n",
    "\n",
    "    \n",
    "def clic(event):\n",
    "    x=event.x\n",
    "    y=event.y\n",
    "    a=pos2lineCol(n,x, y)\n",
    "    x=a[0]\n",
    "    y=a[1]\n",
    "    print(x,y)\n",
    "    p=caseVide(board, x, y)\n",
    "    print(p)\n",
    "    Vx=p[0]\n",
    "    Vy=p[1]\n",
    "    print(Vx,Vy)\n",
    "    board[Vx][Vy]=board[y][x]\n",
    "   \n",
    "\n",
    "\n",
    "\n",
    "master=Tk()\n",
    "cnv=Canvas(master, width=CANVAS_SIDE, height=CANVAS_SIDE, bg='ivory')\n",
    "cnv.pack(side='left')\n",
    "\n",
    "btn=Button(master, text=\"Mélanger\", command=melanger)\n",
    "btn.pack()\n",
    "\n",
    "master.bind(\"<Button-1>\", clic)\n",
    "board=None\n",
    "n=NB_SQUARES\n",
    "\n",
    "melanger()\n",
    "print_board(board)\n",
    "\n",
    "master.mainloop() \n"
   ]
  },
  {
   "cell_type": "code",
   "execution_count": null,
   "metadata": {
    "collapsed": false
   },
   "outputs": [],
   "source": []
  },
  {
   "cell_type": "code",
   "execution_count": null,
   "metadata": {
    "collapsed": false
   },
   "outputs": [],
   "source": []
  },
  {
   "cell_type": "code",
   "execution_count": null,
   "metadata": {
    "collapsed": true
   },
   "outputs": [],
   "source": []
  }
 ],
 "metadata": {
  "kernelspec": {
   "display_name": "Python 3",
   "language": "python",
   "name": "python3"
  },
  "language_info": {
   "codemirror_mode": {
    "name": "ipython",
    "version": 3
   },
   "file_extension": ".py",
   "mimetype": "text/x-python",
   "name": "python",
   "nbconvert_exporter": "python",
   "pygments_lexer": "ipython3",
   "version": "3.5.3"
  }
 },
 "nbformat": 4,
 "nbformat_minor": 2
}
