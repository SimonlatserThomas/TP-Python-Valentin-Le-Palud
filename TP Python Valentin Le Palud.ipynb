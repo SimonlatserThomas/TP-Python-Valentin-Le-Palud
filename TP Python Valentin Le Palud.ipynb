{
 "cells": [
  {
   "cell_type": "markdown",
   "metadata": {},
   "source": [
    "Exercice 1 : Puissance 4"
   ]
  },
  {
   "cell_type": "code",
   "execution_count": 79,
   "metadata": {
    "collapsed": true
   },
   "outputs": [],
   "source": [
    "from tkinter import*\n",
    "puissance4=Tk()\n",
    "WIDTH=200\n",
    "HEIGHT=1\n",
    "cnv=Canvas(puissance4,width=700, height=600, bg=\"blue\")\n",
    "g=Label(puissance4, width=WIDTH, height=HEIGHT ,bg=\"blue\")\n",
    "cnv.pack()\n",
    "g.pack()\n",
    "\n",
    "\n",
    "for i in range(7):\n",
    "    for j in range (6):\n",
    "        x = i*100+50\n",
    "        y = j*100+50\n",
    "        r = 40\n",
    "        if i==2 and j==3 or i==2 and j==5:\n",
    "            cercle=cnv.create_oval(x-r, y-r, x+r, y+r, fill='red')\n",
    "        elif i==2 and j==4 or i==3 and j==5:\n",
    "            cercle=cnv.create_oval(x-r, y-r, x+r, y+r, fill='yellow')\n",
    "        else:\n",
    "            cercle=cnv.create_oval(x-r, y-r, x+r, y+r, fill='white')\n",
    "\n",
    "puissance4.mainloop()"
   ]
  },
  {
   "cell_type": "markdown",
   "metadata": {},
   "source": [
    "Exercice 2 : Fôret"
   ]
  },
  {
   "cell_type": "code",
   "execution_count": 3,
   "metadata": {
    "collapsed": true
   },
   "outputs": [],
   "source": [
    "from random import*\n",
    "from tkinter import*\n",
    "\n",
    "COLORS=[\"ivory\", \"lime green\", \"red\", \"gray75\"]\n",
    "\n",
    "def random_forest(p, n):\n",
    "    p=p*0.1\n",
    "    units=[(line,col) for col in range(n) for line in range(n)]\n",
    "    ntrees=int(n**2*p)\n",
    "    trees=sample(units,ntrees)\n",
    "    states=[[0]*n for _ in range(n)]\n",
    "    for (i,j) in trees:\n",
    "        states[i][j]=1\n",
    "    return states\n",
    "\n",
    "def fill_cell(states, line, col):\n",
    "    A=(unit*col, unit*line)\n",
    "    B=(unit*(col+1), unit*(line+1))\n",
    "    state=states[line][col]\n",
    "    color=COLORS[state]\n",
    "    foret.create_rectangle(A, B, fill=color, outline='')\n",
    "\n",
    "def fill(states):\n",
    "    n=len(states)\n",
    "    for line in range(n):\n",
    "        for col in range(n):\n",
    "            fill_cell(states, line, col)\n",
    "\n",
    "p=randrange(0,10)\n",
    "n=50\n",
    "unit=10\n",
    "\n",
    "\n",
    "root = Tk()\n",
    "foret = Canvas(root, width=unit*n, height=unit*n, background=\"ivory\")\n",
    "foret.pack()\n",
    "\n",
    "fill(random_forest(p, n))\n",
    "\n",
    "\n",
    "root.mainloop()"
   ]
  },
  {
   "cell_type": "code",
   "execution_count": 89,
   "metadata": {
    "collapsed": false
   },
   "outputs": [],
   "source": []
  },
  {
   "cell_type": "markdown",
   "metadata": {},
   "source": [
    "Exercice 3 Taquin"
   ]
  },
  {
   "cell_type": "code",
   "execution_count": 152,
   "metadata": {
    "collapsed": false
   },
   "outputs": [],
   "source": [
    "from tkinter import *\n",
    "\n",
    "board=[[1, 2, 3, 4],\n",
    "       [5, 6, 7, 8],\n",
    "       [9, 10, 11, 12],\n",
    "       [13, 14, 10, 16]]\n",
    "\n",
    "FONT=('Ubuntu', 27, 'bold')\n",
    "master=Tk()\n",
    "cnv=Canvas(master, width=400, height=400, bg='gray70')\n",
    "cnv.pack()\n",
    "\n",
    "for i in range(4):\n",
    "    for j in range(4):\n",
    "        x, y=100*j, 100*i\n",
    "        A, B, C=(x, y), (x+100, y+100), (x+50, y+50)\n",
    "        cnv.create_rectangle(A, B, fill=\"royal blue\")\n",
    "        cnv.create_text(C, text=board[i][j], fill=\"yellow\",\n",
    "                            font=FONT)\n",
    "master.mainloop()\n"
   ]
  },
  {
   "cell_type": "markdown",
   "metadata": {},
   "source": [
    "Exercice 4 Solitaire et ses jetons"
   ]
  },
  {
   "cell_type": "code",
   "execution_count": 162,
   "metadata": {
    "collapsed": false
   },
   "outputs": [],
   "source": [
    "root = Tk()\n",
    "soli = Canvas(root, width=400, height=400, background=\"ivory\")\n",
    "soli.pack()\n",
    "\n",
    "\n",
    "def dot(soli, C, R=6, color='black'):\n",
    "    xC, yC=C\n",
    "    A=(xC-R, yC-R)\n",
    "    B=(xC+R, yC+R)\n",
    "    return soli.create_oval(A,B, fill=color, outline=color)\n",
    "\n",
    "\n",
    "def chgt(X,Y, center):\n",
    "\n",
    "    return (X+center[0], -Y+center[1])\n",
    "SIDE=400\n",
    "center=(SIDE//2, SIDE//2)\n",
    "\n",
    "X=0\n",
    "Y=0\n",
    "x,y=chgt(X,Y, center)\n",
    "\n",
    "\n",
    "C=(x,y)\n",
    "dot(soli,C,200,color='red')\n",
    "dot(soli,C,10,color='grey')\n",
    "\n",
    "for i in range(3):\n",
    "    for j in range(7):\n",
    "        B=(170+30*i,25+60*j)\n",
    "        dot(soli,B,10,color='black')\n",
    "\n",
    "\n",
    "\n",
    "\n",
    "root.mainloop()"
   ]
  },
  {
   "cell_type": "code",
   "execution_count": 165,
   "metadata": {
    "collapsed": true
   },
   "outputs": [],
   "source": [
    "from tkinter import*\n",
    "SIDE = 450\n",
    " \n",
    "fenetre=Tk()\n",
    "cnv=Canvas(fenetre, width=SIDE, height=SIDE)\n",
    "cnv.pack()\n",
    "\n",
    "cnv.create_oval((0,0), (450,450), fill='red')\n",
    "cnv.create_oval((210, 210), (240 ,240), fill='grey')\n",
    "\n",
    "for i in range(4):\n",
    "    if(i==0):\n",
    "        x = 160\n",
    "        y = 160 \n",
    "        X = 190\n",
    "        Y = 190\n",
    "    \n",
    "    if(i==1):\n",
    "        x = 260\n",
    "        y = 260\n",
    "        X = 290\n",
    "        Y = 290\n",
    "    \n",
    "    if(i==2):\n",
    "        x = 160\n",
    "        y = 360\n",
    "        X = 190\n",
    "        Y = 390\n",
    "    \n",
    "    if(i==3):\n",
    "        x = 60\n",
    "        y = 260\n",
    "        X = 90\n",
    "        Y = 290\n",
    "    \n",
    "    \n",
    "    for k in range(9):\n",
    "        cnv.create_oval((x,y),(X,Y), fill='gray17')\n",
    "        x = x +50\n",
    "        X = X +50\n",
    "        if(k==2):\n",
    "            y = y - 50\n",
    "            Y = Y - 50\n",
    "            x = x - 150\n",
    "            X = X - 150\n",
    "        if(k==5):\n",
    "            y = y - 50\n",
    "            Y = Y - 50\n",
    "            x = x - 150\n",
    "            X = X - 150\n",
    "    \n",
    "fenetre.mainloop()"
   ]
  },
  {
   "cell_type": "markdown",
   "metadata": {},
   "source": [
    "Exercice 4 : Multi-pointeur Phaser"
   ]
  },
  {
   "cell_type": "code",
   "execution_count": 172,
   "metadata": {
    "collapsed": false
   },
   "outputs": [
    {
     "ename": "TclError",
     "evalue": "invalid command name \".139786305373856\"",
     "output_type": "error",
     "traceback": [
      "\u001b[0;31m---------------------------------------------------------------------------\u001b[0m",
      "\u001b[0;31mTclError\u001b[0m                                  Traceback (most recent call last)",
      "\u001b[0;32m<ipython-input-172-0d64c49906b6>\u001b[0m in \u001b[0;36m<module>\u001b[0;34m()\u001b[0m\n\u001b[1;32m     37\u001b[0m \u001b[0mL\u001b[0m\u001b[0;34m=\u001b[0m\u001b[0;36m80\u001b[0m\u001b[0;34m\u001b[0m\u001b[0m\n\u001b[1;32m     38\u001b[0m \u001b[0;34m\u001b[0m\u001b[0m\n\u001b[0;32m---> 39\u001b[0;31m \u001b[0mline\u001b[0m\u001b[0;34m(\u001b[0m\u001b[0mA\u001b[0m\u001b[0;34m,\u001b[0m\u001b[0mC\u001b[0m\u001b[0;34m)\u001b[0m\u001b[0;34m\u001b[0m\u001b[0m\n\u001b[0m\u001b[1;32m     40\u001b[0m \u001b[0mdot\u001b[0m\u001b[0;34m(\u001b[0m\u001b[0mcnv\u001b[0m\u001b[0;34m,\u001b[0m \u001b[0mC\u001b[0m\u001b[0;34m,\u001b[0m \u001b[0mcolor\u001b[0m\u001b[0;34m=\u001b[0m\u001b[0;34m\"blue\"\u001b[0m\u001b[0;34m)\u001b[0m\u001b[0;34m\u001b[0m\u001b[0m\n\u001b[1;32m     41\u001b[0m \u001b[0;34m\u001b[0m\u001b[0m\n",
      "\u001b[0;32m<ipython-input-172-0d64c49906b6>\u001b[0m in \u001b[0;36mline\u001b[0;34m(A, C)\u001b[0m\n\u001b[1;32m     29\u001b[0m \u001b[0;34m\u001b[0m\u001b[0m\n\u001b[1;32m     30\u001b[0m     cnv.create_line(B,A, width=7, fill=GREEN, arrow='last',\n\u001b[0;32m---> 31\u001b[0;31m                     arrowshape=(18,30, 8))\n\u001b[0m\u001b[1;32m     32\u001b[0m     \u001b[0mcnv\u001b[0m\u001b[0;34m.\u001b[0m\u001b[0mcreate_line\u001b[0m\u001b[0;34m(\u001b[0m\u001b[0mA\u001b[0m\u001b[0;34m,\u001b[0m\u001b[0mD\u001b[0m\u001b[0;34m,\u001b[0m \u001b[0mfill\u001b[0m\u001b[0;34m=\u001b[0m\u001b[0;34m\"green\"\u001b[0m\u001b[0;34m,\u001b[0m \u001b[0mdash\u001b[0m\u001b[0;34m=\u001b[0m\u001b[0;36m3\u001b[0m\u001b[0;34m)\u001b[0m\u001b[0;34m\u001b[0m\u001b[0m\n\u001b[1;32m     33\u001b[0m \u001b[0;34m\u001b[0m\u001b[0m\n",
      "\u001b[0;32m/usr/lib/python3.5/tkinter/__init__.py\u001b[0m in \u001b[0;36mcreate_line\u001b[0;34m(self, *args, **kw)\u001b[0m\n\u001b[1;32m   2342\u001b[0m     \u001b[0;32mdef\u001b[0m \u001b[0mcreate_line\u001b[0m\u001b[0;34m(\u001b[0m\u001b[0mself\u001b[0m\u001b[0;34m,\u001b[0m \u001b[0;34m*\u001b[0m\u001b[0margs\u001b[0m\u001b[0;34m,\u001b[0m \u001b[0;34m**\u001b[0m\u001b[0mkw\u001b[0m\u001b[0;34m)\u001b[0m\u001b[0;34m:\u001b[0m\u001b[0;34m\u001b[0m\u001b[0m\n\u001b[1;32m   2343\u001b[0m         \u001b[0;34m\"\"\"Create line with coordinates x1,y1,...,xn,yn.\"\"\"\u001b[0m\u001b[0;34m\u001b[0m\u001b[0m\n\u001b[0;32m-> 2344\u001b[0;31m         \u001b[0;32mreturn\u001b[0m \u001b[0mself\u001b[0m\u001b[0;34m.\u001b[0m\u001b[0m_create\u001b[0m\u001b[0;34m(\u001b[0m\u001b[0;34m'line'\u001b[0m\u001b[0;34m,\u001b[0m \u001b[0margs\u001b[0m\u001b[0;34m,\u001b[0m \u001b[0mkw\u001b[0m\u001b[0;34m)\u001b[0m\u001b[0;34m\u001b[0m\u001b[0m\n\u001b[0m\u001b[1;32m   2345\u001b[0m     \u001b[0;32mdef\u001b[0m \u001b[0mcreate_oval\u001b[0m\u001b[0;34m(\u001b[0m\u001b[0mself\u001b[0m\u001b[0;34m,\u001b[0m \u001b[0;34m*\u001b[0m\u001b[0margs\u001b[0m\u001b[0;34m,\u001b[0m \u001b[0;34m**\u001b[0m\u001b[0mkw\u001b[0m\u001b[0;34m)\u001b[0m\u001b[0;34m:\u001b[0m\u001b[0;34m\u001b[0m\u001b[0m\n\u001b[1;32m   2346\u001b[0m         \u001b[0;34m\"\"\"Create oval with coordinates x1,y1,x2,y2.\"\"\"\u001b[0m\u001b[0;34m\u001b[0m\u001b[0m\n",
      "\u001b[0;32m/usr/lib/python3.5/tkinter/__init__.py\u001b[0m in \u001b[0;36m_create\u001b[0;34m(self, itemType, args, kw)\u001b[0m\n\u001b[1;32m   2330\u001b[0m         return self.tk.getint(self.tk.call(\n\u001b[1;32m   2331\u001b[0m             \u001b[0mself\u001b[0m\u001b[0;34m.\u001b[0m\u001b[0m_w\u001b[0m\u001b[0;34m,\u001b[0m \u001b[0;34m'create'\u001b[0m\u001b[0;34m,\u001b[0m \u001b[0mitemType\u001b[0m\u001b[0;34m,\u001b[0m\u001b[0;34m\u001b[0m\u001b[0m\n\u001b[0;32m-> 2332\u001b[0;31m             *(args + self._options(cnf, kw))))\n\u001b[0m\u001b[1;32m   2333\u001b[0m     \u001b[0;32mdef\u001b[0m \u001b[0mcreate_arc\u001b[0m\u001b[0;34m(\u001b[0m\u001b[0mself\u001b[0m\u001b[0;34m,\u001b[0m \u001b[0;34m*\u001b[0m\u001b[0margs\u001b[0m\u001b[0;34m,\u001b[0m \u001b[0;34m**\u001b[0m\u001b[0mkw\u001b[0m\u001b[0;34m)\u001b[0m\u001b[0;34m:\u001b[0m\u001b[0;34m\u001b[0m\u001b[0m\n\u001b[1;32m   2334\u001b[0m         \u001b[0;34m\"\"\"Create arc shaped region with coordinates x1,y1,x2,y2.\"\"\"\u001b[0m\u001b[0;34m\u001b[0m\u001b[0m\n",
      "\u001b[0;31mTclError\u001b[0m: invalid command name \".139786305373856\""
     ]
    }
   ],
   "source": [
    "from tkinter import Tk, Canvas\n",
    "\n",
    "\n",
    "def origin(B,C,L):\n",
    "    xB, yB=B\n",
    "    xC, yC=C\n",
    "    xBC, yBC=(xC-xB, yC-yB)\n",
    "    AC=(xBC**2+yBC**2)**0.5\n",
    "    xu, yu=(xBC/BC, yBC/BC)\n",
    "    xA=xB+L*xu\n",
    "    yA=yB+L*yu\n",
    "    return (xA, yA)\n",
    "root=Tk()\n",
    "cnv=Canvas(root, width=600, height=400, bg=\"gray25\")\n",
    "cnv.pack()\n",
    "\n",
    "cnv.create_line(50, 60,150, 60, width=5, arrow='last')\n",
    "root.mainloop()\n",
    "\n",
    "def dot(cnv, C, R=6, color='red'):\n",
    "    xC, yC=C\n",
    "    A=(xC-R, yC-R)\n",
    "    B=(xC+R, yC+R)\n",
    "    return cnv.create_oval(A,B, fill=color, outline=color)\n",
    "\n",
    "def line(A, C):\n",
    "    B=point(A, C, -L)\n",
    "    D=point(A, C, WIDTH)\n",
    "\n",
    "    cnv.create_line(B,A, width=7, fill=GREEN, arrow='last',\n",
    "                    arrowshape=(18,30, 8))\n",
    "    cnv.create_line(A,D, fill=\"green\", dash=3)\n",
    "\n",
    "\n",
    "A=(150, 100)\n",
    "C=(450, 330)\n",
    "L=80\n",
    "\n",
    "line(A,C)\n",
    "dot(cnv, C, color=\"blue\")\n",
    "\n",
    "root.mainloop()\n",
    "\n"
   ]
  },
  {
   "cell_type": "code",
   "execution_count": 171,
   "metadata": {
    "collapsed": true
   },
   "outputs": [],
   "source": [
    "from tkinter import Tk, Canvas\n",
    "\n",
    "WIDTH=600\n",
    "HEIGHT=400\n",
    "\n",
    "GREEN=\"#10ff00\"\n",
    "GRAY=\"#363636\"\n",
    "\n",
    "\n",
    "def point(A, C, k):\n",
    "    xA, yA=A\n",
    "    xC, yC=C\n",
    "    xAC, yAC=(xC-xA, yC-yA)\n",
    "    AC=(xAC**2+yAC**2)**0.5\n",
    "    xu, yu=(xAC/AC, yAC/AC)\n",
    "    xM=xA+k*xu\n",
    "    yM=yA+k*yu\n",
    "    return (xM, yM)\n",
    "\n",
    "root=Tk()\n",
    "cnv=Canvas(root, width=WIDTH, height=HEIGHT, bg=GRAY)\n",
    "cnv.pack()\n",
    "\n",
    "\n",
    "def dot(cnv, C, R=6, color='red'):\n",
    "    xC, yC=C\n",
    "    A=(xC-R, yC-R)\n",
    "    B=(xC+R, yC+R)\n",
    "    return cnv.create_oval(A,B, fill=color, outline=color)\n",
    "\n",
    "def line(A, C):\n",
    "    B=point(A, C, -L)\n",
    "    D=point(A, C, WIDTH)\n",
    "\n",
    "    cnv.create_line(B,A, width=7, fill=GREEN, arrow='last',\n",
    "                    arrowshape=(18,30, 8))\n",
    "    cnv.create_line(A,D, fill=GREEN, dash=3)\n",
    "\n",
    "\n",
    "A=(150, 100)\n",
    "C=(450, 330)\n",
    "L=80\n",
    "\n",
    "line(A,C)\n",
    "dot(cnv, C, color=\"#10ff00\")\n",
    "\n",
    "root.mainloop()\n"
   ]
  },
  {
   "cell_type": "code",
   "execution_count": null,
   "metadata": {
    "collapsed": true
   },
   "outputs": [],
   "source": []
  }
 ],
 "metadata": {
  "kernelspec": {
   "display_name": "Python 3",
   "language": "python",
   "name": "python3"
  },
  "language_info": {
   "codemirror_mode": {
    "name": "ipython",
    "version": 3
   },
   "file_extension": ".py",
   "mimetype": "text/x-python",
   "name": "python",
   "nbconvert_exporter": "python",
   "pygments_lexer": "ipython3",
   "version": "3.5.3"
  }
 },
 "nbformat": 4,
 "nbformat_minor": 2
}
