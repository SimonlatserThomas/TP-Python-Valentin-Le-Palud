{
 "cells": [
  {
   "cell_type": "markdown",
   "metadata": {},
   "source": [
    "Exercice 1 : Puissance 4"
   ]
  },
  {
   "cell_type": "code",
   "execution_count": 79,
   "metadata": {},
   "outputs": [],
   "source": [
    "from tkinter import*\n",
    "puissance4=Tk()\n",
    "WIDTH=200\n",
    "HEIGHT=1\n",
    "cnv=Canvas(puissance4,width=700, height=600, bg=\"blue\")\n",
    "g=Label(puissance4, width=WIDTH, height=HEIGHT ,bg=\"blue\")\n",
    "cnv.pack()\n",
    "g.pack()\n",
    "\n",
    "\n",
    "for i in range(7):\n",
    "    for j in range (6):\n",
    "        x = i*100+50\n",
    "        y = j*100+50\n",
    "        r = 40\n",
    "        if i==2 and j==3 or i==2 and j==5:\n",
    "            cercle=cnv.create_oval(x-r, y-r, x+r, y+r, fill='red')\n",
    "        elif i==2 and j==4 or i==3 and j==5:\n",
    "            cercle=cnv.create_oval(x-r, y-r, x+r, y+r, fill='yellow')\n",
    "        else:\n",
    "            cercle=cnv.create_oval(x-r, y-r, x+r, y+r, fill='white')\n",
    "\n",
    "puissance4.mainloop()"
   ]
  },
  {
   "cell_type": "markdown",
   "metadata": {},
   "source": [
    "Exercice 2 : Fôret"
   ]
  },
  {
   "cell_type": "code",
   "execution_count": 13,
   "metadata": {},
   "outputs": [
    {
     "ename": "TypeError",
     "evalue": "pixel() takes 0 positional arguments but 1 was given",
     "output_type": "error",
     "traceback": [
      "\u001b[1;31m---------------------------------------------------------------------------\u001b[0m",
      "\u001b[1;31mTypeError\u001b[0m                                 Traceback (most recent call last)",
      "\u001b[1;32m<ipython-input-13-21f262488f7d>\u001b[0m in \u001b[0;36m<module>\u001b[1;34m\u001b[0m\n\u001b[0;32m     28\u001b[0m \u001b[0mstates\u001b[0m \u001b[1;33m=\u001b[0m \u001b[0mrandom_forest\u001b[0m\u001b[1;33m(\u001b[0m\u001b[1;36m0.6\u001b[0m\u001b[1;33m,\u001b[0m \u001b[1;36m10\u001b[0m\u001b[1;33m)\u001b[0m\u001b[1;33m\u001b[0m\u001b[1;33m\u001b[0m\u001b[0m\n\u001b[0;32m     29\u001b[0m \u001b[1;33m\u001b[0m\u001b[0m\n\u001b[1;32m---> 30\u001b[1;33m \u001b[0mpixel\u001b[0m\u001b[1;33m(\u001b[0m\u001b[0mrandom_forest\u001b[0m\u001b[1;33m(\u001b[0m\u001b[1;36m0.6\u001b[0m\u001b[1;33m,\u001b[0m \u001b[1;36m10\u001b[0m\u001b[1;33m)\u001b[0m\u001b[1;33m)\u001b[0m\u001b[1;33m\u001b[0m\u001b[1;33m\u001b[0m\u001b[0m\n\u001b[0m",
      "\u001b[1;31mTypeError\u001b[0m: pixel() takes 0 positional arguments but 1 was given"
     ]
    }
   ],
   "source": [
    "from tkinter import*\n",
    "from random import*\n",
    "\n",
    "foret=Tk()\n",
    "WIDTH=500\n",
    "HEIGHT=500\n",
    "foret=Canvas(foret,width=WIDTH, height=HEIGHT)\n",
    "\n",
    "def pixel():     \n",
    "    Arbre=foret.create_rectangle(1, 1, 1, 1, fill='green', outline='')\n",
    "foret.pack(padx=20, pady=20)\n",
    "foret.mainloop()\n",
    "\n",
    "def random_forest(p, n):\n",
    "    units=[(line,col) for col in range(n) for line in range(n)]\n",
    "    ntrees=int(n**2*p)\n",
    "    trees=sample(units,ntrees)\n",
    "    states=[[0]*n for _ in range(n)]\n",
    "    for (i,j) in trees:\n",
    "        states[i][j]=1\n",
    "    return states\n",
    "def fill(states):\n",
    "    n=len(states)\n",
    "    for line in range(n):\n",
    "        for col in range(n):\n",
    "            fill_cell(states, line, col)\n",
    "            \n",
    "states = random_forest(0.6, 10)\n",
    "\n",
    "pixel(fill(random_forest(0.6, 10)))\n"
   ]
  },
  {
   "cell_type": "code",
   "execution_count": 2,
   "metadata": {},
   "outputs": [],
   "source": [
    "from random import*\n",
    "from tkinter import*\n",
    "\n",
    "COLORS=[\"ivory\", \"lime green\", \"red\", \"gray75\"]\n",
    "\n",
    "def random_forest(p, n):\n",
    "    p=p*0.1\n",
    "    units=[(line,col) for col in range(n) for line in range(n)]\n",
    "    ntrees=int(n**2*p)\n",
    "    trees=sample(units,ntrees)\n",
    "    states=[[0]*n for _ in range(n)]\n",
    "    for (i,j) in trees:\n",
    "        states[i][j]=1\n",
    "    return states\n",
    "\n",
    "def fill_cell(states, line, col):\n",
    "    A=(unit*col, unit*line)\n",
    "    B=(unit*(col+1), unit*(line+1))\n",
    "    state=states[line][col]\n",
    "    color=COLORS[state]\n",
    "    foret.create_rectangle(A, B, fill=color, outline='')\n",
    "\n",
    "def fill(states):\n",
    "    n=len(states)\n",
    "    for line in range(n):\n",
    "        for col in range(n):\n",
    "            fill_cell(states, line, col)\n",
    "\n",
    "p=randrange(0,10)\n",
    "n=50\n",
    "unit=10\n",
    "\n",
    "\n",
    "root = Tk()\n",
    "foret = Canvas(root, width=unit*n, height=unit*n, background=\"ivory\")\n",
    "foret.pack()\n",
    "\n",
    "fill(random_forest(p, n))\n",
    "\n",
    "\n",
    "root.mainloop()"
   ]
  },
  {
   "cell_type": "code",
   "execution_count": 27,
   "metadata": {},
   "outputs": [
    {
     "name": "stdout",
     "output_type": "stream",
     "text": [
      "0.6\n"
     ]
    }
   ],
   "source": []
  },
  {
   "cell_type": "code",
   "execution_count": null,
   "metadata": {},
   "outputs": [],
   "source": []
  },
  {
   "cell_type": "code",
   "execution_count": null,
   "metadata": {},
   "outputs": [],
   "source": []
  }
 ],
 "metadata": {
  "kernelspec": {
   "display_name": "Python 3",
   "language": "python",
   "name": "python3"
  },
  "language_info": {
   "codemirror_mode": {
    "name": "ipython",
    "version": 3
   },
   "file_extension": ".py",
   "mimetype": "text/x-python",
   "name": "python",
   "nbconvert_exporter": "python",
   "pygments_lexer": "ipython3",
   "version": "3.7.4"
  }
 },
 "nbformat": 4,
 "nbformat_minor": 2
}
