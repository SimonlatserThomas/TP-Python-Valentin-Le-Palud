{
 "cells": [
  {
   "cell_type": "markdown",
   "metadata": {},
   "source": [
    "Projet Python "
   ]
  },
  {
   "cell_type": "code",
   "execution_count": 17,
   "metadata": {
    "collapsed": false
   },
   "outputs": [],
   "source": [
    "from tkinter import*\n",
    "\n",
    "WIDTH=500\n",
    "HEIGHT=500\n",
    "root=Tk()\n",
    "cnv = Canvas(root, width=WIDTH, height=HEIGHT, background=\"ivory\")\n",
    "cnv.pack()\n",
    "\n",
    "\n",
    "\n",
    "def init():\n",
    "    unit=10\n",
    "    for line in range(WIDTH):\n",
    "        for col in range(HEIGHT):\n",
    "            A=(unit*col, unit*line)\n",
    "            B=(unit*(col+1), unit*(line+1))\n",
    "               \n",
    "            cnv.create_rectangle(A, B, fill=\"grey\",)\n",
    "                \n",
    "init()\n",
    "root.mainloop()\n"
   ]
  },
  {
   "cell_type": "code",
   "execution_count": null,
   "metadata": {
    "collapsed": true
   },
   "outputs": [],
   "source": []
  },
  {
   "cell_type": "code",
   "execution_count": null,
   "metadata": {
    "collapsed": true
   },
   "outputs": [],
   "source": []
  }
 ],
 "metadata": {
  "kernelspec": {
   "display_name": "Python 3",
   "language": "python",
   "name": "python3"
  },
  "language_info": {
   "codemirror_mode": {
    "name": "ipython",
    "version": 3
   },
   "file_extension": ".py",
   "mimetype": "text/x-python",
   "name": "python",
   "nbconvert_exporter": "python",
   "pygments_lexer": "ipython3",
   "version": "3.5.3"
  }
 },
 "nbformat": 4,
 "nbformat_minor": 2
}
